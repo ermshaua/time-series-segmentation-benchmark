{
 "cells": [
  {
   "cell_type": "markdown",
   "metadata": {},
   "source": [
    "# Time Series Segmentation\n",
    "In this notebook, we test ClaSP against rival methods."
   ]
  },
  {
   "cell_type": "code",
   "execution_count": 1,
   "metadata": {},
   "outputs": [],
   "source": [
    "import numpy as np\n",
    "import pandas as pd\n",
    "import daproli as dp\n",
    "\n",
    "import pandas as pd\n",
    "pd.set_option('display.max_rows', None)\n",
    "\n",
    "import matplotlib.pyplot as plt\n",
    "import seaborn as sns\n",
    "\n",
    "sns.set_theme()\n",
    "sns.set_color_codes()\n",
    "\n",
    "import Orange\n",
    "import sys\n",
    "sys.path.append(\"../../\")\n",
    "\n",
    "from tqdm import tqdm"
   ]
  },
  {
   "cell_type": "markdown",
   "metadata": {},
   "source": [
    "Let's load the scores from the different methods."
   ]
  },
  {
   "cell_type": "code",
   "execution_count": 2,
   "metadata": {},
   "outputs": [
    {
     "data": {
      "text/plain": "                              name     ClaSP     FLOSS  Window-L$_2$  \\\n0                            Adiac  0.003078  0.004972      0.063447   \n1                        ArrowHead  0.001992  0.002656      0.045153   \n2                             Beef  0.013475  0.033333      0.148936   \n3                        BeetleFly  0.000000  0.016406      0.478516   \n4                      BirdChicken  0.001562  0.399609      0.039062   \n5                              Car  0.008476  0.016798      0.058715   \n6                              CBF  0.006771  0.015625      0.078125   \n7            ChlorineConcentration  0.000000  0.000128      0.153826   \n8                     CinCECGTorso  0.002720  0.006625      0.229111   \n9                           Coffee  0.003000  0.006000      0.245000   \n10                       Computers  0.014844  0.473333      0.085778   \n11                        CricketX  0.001779  0.005579      0.031533   \n12                        CricketY  0.001870  0.011386      0.053676   \n13                        CricketZ  0.007821  0.010306      0.083732   \n14             DiatomSizeReduction  0.001547  0.009280      0.192962   \n15    DistalPhalanxOutlineAgeGroup  0.002797  0.033566      0.660839   \n16                 DistalPhalanxTW  0.010659  0.013178      0.143411   \n17                     Earthquakes  0.037170  0.172069      0.015237   \n18                          ECG200  0.009167  0.016250      0.145417   \n19                         ECG5000  0.000488  0.002438      0.306192   \n20                     ECGFiveDays  0.003836  0.015345      0.152174   \n21                 ElectricDevices  0.004076  0.004921      0.200269   \n22                         FaceAll  0.000527  0.006725      0.026990   \n23                        FaceFour  0.002698  0.014087      0.141468   \n24                        FacesUCR  0.001208  0.010772      0.077459   \n25                      FiftyWords  0.001925  0.006993      0.074737   \n26                            Fish  0.001745  0.008149      0.028925   \n27                        GunPoint  0.003733  0.005867      0.104000   \n28                         Haptics  0.087593  0.173910      0.179022   \n29                     InlineSkate  0.048226  0.022506      0.253060   \n30             InsectWingbeatSound  0.003385  0.019271      0.082031   \n31                ItalyPowerDemand  0.000622  0.012438      0.139303   \n32          LargeKitchenAppliances  0.011320  0.020270      0.103130   \n33                      Lightning2  0.006700  0.190955      0.094640   \n34                      Lightning7  0.016478  0.015446      0.085755   \n35                          Mallat  0.000672  0.009409      0.050655   \n36                            Meat  0.000595  0.002381      0.208334   \n37                   MedicalImages  0.004446  0.004042      0.479790   \n38                      MoteStrain  0.001786  0.039881      0.133929   \n39      NonInvasiveFetalECGThorax1  0.000564  0.010177      0.030709   \n40      NonInvasiveFetalECGThorax2  0.000366  0.007195      0.042792   \n41                        OliveOil  0.002226  0.017814      0.096154   \n42                         OSULeaf  0.001202  0.014423      0.086779   \n43                           Plane  0.000706  0.003395      0.039418   \n44  ProximalPhalanxOutlineAgeGroup  0.031250  0.053125      0.206250   \n45               ProximalPhalanxTW  0.003083  0.008583      0.031667   \n46                       ShapesAll  0.002852  0.002774      0.028515   \n47           SonyAIBORobotSurface1  0.001429  0.013571      0.003571   \n48           SonyAIBORobotSurface2  0.006838  0.007407      0.207977   \n49                 StarLightCurves  0.002345  0.007815      0.105189   \n50                     SwedishLeaf  0.001685  0.008425      0.060279   \n51                         Symbols  0.004235  0.027704      0.175401   \n52                SyntheticControl  0.001267  0.006733      0.109000   \n53                ToeSegmentation1  0.000000  0.003249      0.332130   \n54                ToeSegmentation2  0.004861  0.005185      0.277706   \n55                           Trace  0.004916  0.024578      0.114727   \n56                      TwoLeadECG  0.002123  0.343949      0.235669   \n57                     TwoPatterns  0.001833  0.003417      0.079500   \n58          UWaveGestureLibraryAll  0.000975  0.003428      0.089313   \n59            UWaveGestureLibraryX  0.001686  0.021380      0.115685   \n60            UWaveGestureLibraryY  0.004791  0.017122      0.058641   \n61            UWaveGestureLibraryZ  0.018542  0.010114      0.064851   \n62                           Wafer  0.004212  0.012637      0.547599   \n63                    WordSynonyms  0.001253  0.013778      0.270146   \n64                           Worms  0.007686  0.020226      0.158980   \n65                            Yoga  0.002692  0.004382      0.088894   \n\n    BinSeg-L$_2$      BOCD  \n0       0.307055  0.021780  \n1       0.496680  0.460159  \n2       0.482270  0.110638  \n3       0.490234  0.392578  \n4       0.496094  0.324219  \n5       0.277393  0.011096  \n6       0.368750  0.210938  \n7       0.302525  0.249327  \n8       0.268726  0.266774  \n9       0.495000  0.307000  \n10      0.495111  0.360800  \n11      0.218548  0.020537  \n12      0.213403  0.075146  \n13      0.206570  0.061925  \n14      0.386311  0.162413  \n15      0.206294  1.000000  \n16      0.218992  0.136046  \n17      0.812112  0.796487  \n18      0.683750  0.045417  \n19      0.374451  0.366163  \n20      0.152174  0.223785  \n21      0.311264  0.193071  \n22      0.138495  0.033206  \n23      0.248611  0.122500  \n24      0.136357  0.016479  \n25      0.330703  0.263536  \n26      0.150270  0.123024  \n27      0.517333  0.135467  \n28      0.202454  0.079584  \n29      0.430616  0.183986  \n30      0.242187  0.037240  \n31      0.490672  0.044154  \n32      0.329658  0.174609  \n33      0.329146  0.030988  \n34      0.168374  0.078643  \n35      0.343162  0.094338  \n36      0.328869  0.136012  \n37      0.696039  0.240097  \n38      0.491071  0.458929  \n39      0.145733  0.127101  \n40      0.117294  0.105740  \n41      0.478070  0.200810  \n42      0.163462  0.087019  \n43      0.175265  0.004674  \n44      0.470625  0.470500  \n45      0.075000  0.015917  \n46      0.174414  0.090195  \n47      0.296429  0.070714  \n48      0.393162  0.111681  \n49      0.141763  0.038606  \n50      0.208257  0.061657  \n51      0.225693  0.048703  \n52      0.195000  0.031133  \n53      0.498195  0.189531  \n54      0.489955  0.462411  \n55      0.408966  0.136453  \n56      0.464968  0.339703  \n57      0.240542  0.157583  \n58      0.196802  0.032835  \n59      0.218062  0.090845  \n60      0.171487  0.062722  \n61      0.200319  0.072569  \n62      0.084246  0.091828  \n63      0.078080  0.081420  \n64      0.330906  0.073624  \n65      0.542444  0.444723  ",
      "text/html": "<div>\n<style scoped>\n    .dataframe tbody tr th:only-of-type {\n        vertical-align: middle;\n    }\n\n    .dataframe tbody tr th {\n        vertical-align: top;\n    }\n\n    .dataframe thead th {\n        text-align: right;\n    }\n</style>\n<table border=\"1\" class=\"dataframe\">\n  <thead>\n    <tr style=\"text-align: right;\">\n      <th></th>\n      <th>name</th>\n      <th>ClaSP</th>\n      <th>FLOSS</th>\n      <th>Window-L$_2$</th>\n      <th>BinSeg-L$_2$</th>\n      <th>BOCD</th>\n    </tr>\n  </thead>\n  <tbody>\n    <tr>\n      <th>0</th>\n      <td>Adiac</td>\n      <td>0.003078</td>\n      <td>0.004972</td>\n      <td>0.063447</td>\n      <td>0.307055</td>\n      <td>0.021780</td>\n    </tr>\n    <tr>\n      <th>1</th>\n      <td>ArrowHead</td>\n      <td>0.001992</td>\n      <td>0.002656</td>\n      <td>0.045153</td>\n      <td>0.496680</td>\n      <td>0.460159</td>\n    </tr>\n    <tr>\n      <th>2</th>\n      <td>Beef</td>\n      <td>0.013475</td>\n      <td>0.033333</td>\n      <td>0.148936</td>\n      <td>0.482270</td>\n      <td>0.110638</td>\n    </tr>\n    <tr>\n      <th>3</th>\n      <td>BeetleFly</td>\n      <td>0.000000</td>\n      <td>0.016406</td>\n      <td>0.478516</td>\n      <td>0.490234</td>\n      <td>0.392578</td>\n    </tr>\n    <tr>\n      <th>4</th>\n      <td>BirdChicken</td>\n      <td>0.001562</td>\n      <td>0.399609</td>\n      <td>0.039062</td>\n      <td>0.496094</td>\n      <td>0.324219</td>\n    </tr>\n    <tr>\n      <th>5</th>\n      <td>Car</td>\n      <td>0.008476</td>\n      <td>0.016798</td>\n      <td>0.058715</td>\n      <td>0.277393</td>\n      <td>0.011096</td>\n    </tr>\n    <tr>\n      <th>6</th>\n      <td>CBF</td>\n      <td>0.006771</td>\n      <td>0.015625</td>\n      <td>0.078125</td>\n      <td>0.368750</td>\n      <td>0.210938</td>\n    </tr>\n    <tr>\n      <th>7</th>\n      <td>ChlorineConcentration</td>\n      <td>0.000000</td>\n      <td>0.000128</td>\n      <td>0.153826</td>\n      <td>0.302525</td>\n      <td>0.249327</td>\n    </tr>\n    <tr>\n      <th>8</th>\n      <td>CinCECGTorso</td>\n      <td>0.002720</td>\n      <td>0.006625</td>\n      <td>0.229111</td>\n      <td>0.268726</td>\n      <td>0.266774</td>\n    </tr>\n    <tr>\n      <th>9</th>\n      <td>Coffee</td>\n      <td>0.003000</td>\n      <td>0.006000</td>\n      <td>0.245000</td>\n      <td>0.495000</td>\n      <td>0.307000</td>\n    </tr>\n    <tr>\n      <th>10</th>\n      <td>Computers</td>\n      <td>0.014844</td>\n      <td>0.473333</td>\n      <td>0.085778</td>\n      <td>0.495111</td>\n      <td>0.360800</td>\n    </tr>\n    <tr>\n      <th>11</th>\n      <td>CricketX</td>\n      <td>0.001779</td>\n      <td>0.005579</td>\n      <td>0.031533</td>\n      <td>0.218548</td>\n      <td>0.020537</td>\n    </tr>\n    <tr>\n      <th>12</th>\n      <td>CricketY</td>\n      <td>0.001870</td>\n      <td>0.011386</td>\n      <td>0.053676</td>\n      <td>0.213403</td>\n      <td>0.075146</td>\n    </tr>\n    <tr>\n      <th>13</th>\n      <td>CricketZ</td>\n      <td>0.007821</td>\n      <td>0.010306</td>\n      <td>0.083732</td>\n      <td>0.206570</td>\n      <td>0.061925</td>\n    </tr>\n    <tr>\n      <th>14</th>\n      <td>DiatomSizeReduction</td>\n      <td>0.001547</td>\n      <td>0.009280</td>\n      <td>0.192962</td>\n      <td>0.386311</td>\n      <td>0.162413</td>\n    </tr>\n    <tr>\n      <th>15</th>\n      <td>DistalPhalanxOutlineAgeGroup</td>\n      <td>0.002797</td>\n      <td>0.033566</td>\n      <td>0.660839</td>\n      <td>0.206294</td>\n      <td>1.000000</td>\n    </tr>\n    <tr>\n      <th>16</th>\n      <td>DistalPhalanxTW</td>\n      <td>0.010659</td>\n      <td>0.013178</td>\n      <td>0.143411</td>\n      <td>0.218992</td>\n      <td>0.136046</td>\n    </tr>\n    <tr>\n      <th>17</th>\n      <td>Earthquakes</td>\n      <td>0.037170</td>\n      <td>0.172069</td>\n      <td>0.015237</td>\n      <td>0.812112</td>\n      <td>0.796487</td>\n    </tr>\n    <tr>\n      <th>18</th>\n      <td>ECG200</td>\n      <td>0.009167</td>\n      <td>0.016250</td>\n      <td>0.145417</td>\n      <td>0.683750</td>\n      <td>0.045417</td>\n    </tr>\n    <tr>\n      <th>19</th>\n      <td>ECG5000</td>\n      <td>0.000488</td>\n      <td>0.002438</td>\n      <td>0.306192</td>\n      <td>0.374451</td>\n      <td>0.366163</td>\n    </tr>\n    <tr>\n      <th>20</th>\n      <td>ECGFiveDays</td>\n      <td>0.003836</td>\n      <td>0.015345</td>\n      <td>0.152174</td>\n      <td>0.152174</td>\n      <td>0.223785</td>\n    </tr>\n    <tr>\n      <th>21</th>\n      <td>ElectricDevices</td>\n      <td>0.004076</td>\n      <td>0.004921</td>\n      <td>0.200269</td>\n      <td>0.311264</td>\n      <td>0.193071</td>\n    </tr>\n    <tr>\n      <th>22</th>\n      <td>FaceAll</td>\n      <td>0.000527</td>\n      <td>0.006725</td>\n      <td>0.026990</td>\n      <td>0.138495</td>\n      <td>0.033206</td>\n    </tr>\n    <tr>\n      <th>23</th>\n      <td>FaceFour</td>\n      <td>0.002698</td>\n      <td>0.014087</td>\n      <td>0.141468</td>\n      <td>0.248611</td>\n      <td>0.122500</td>\n    </tr>\n    <tr>\n      <th>24</th>\n      <td>FacesUCR</td>\n      <td>0.001208</td>\n      <td>0.010772</td>\n      <td>0.077459</td>\n      <td>0.136357</td>\n      <td>0.016479</td>\n    </tr>\n    <tr>\n      <th>25</th>\n      <td>FiftyWords</td>\n      <td>0.001925</td>\n      <td>0.006993</td>\n      <td>0.074737</td>\n      <td>0.330703</td>\n      <td>0.263536</td>\n    </tr>\n    <tr>\n      <th>26</th>\n      <td>Fish</td>\n      <td>0.001745</td>\n      <td>0.008149</td>\n      <td>0.028925</td>\n      <td>0.150270</td>\n      <td>0.123024</td>\n    </tr>\n    <tr>\n      <th>27</th>\n      <td>GunPoint</td>\n      <td>0.003733</td>\n      <td>0.005867</td>\n      <td>0.104000</td>\n      <td>0.517333</td>\n      <td>0.135467</td>\n    </tr>\n    <tr>\n      <th>28</th>\n      <td>Haptics</td>\n      <td>0.087593</td>\n      <td>0.173910</td>\n      <td>0.179022</td>\n      <td>0.202454</td>\n      <td>0.079584</td>\n    </tr>\n    <tr>\n      <th>29</th>\n      <td>InlineSkate</td>\n      <td>0.048226</td>\n      <td>0.022506</td>\n      <td>0.253060</td>\n      <td>0.430616</td>\n      <td>0.183986</td>\n    </tr>\n    <tr>\n      <th>30</th>\n      <td>InsectWingbeatSound</td>\n      <td>0.003385</td>\n      <td>0.019271</td>\n      <td>0.082031</td>\n      <td>0.242187</td>\n      <td>0.037240</td>\n    </tr>\n    <tr>\n      <th>31</th>\n      <td>ItalyPowerDemand</td>\n      <td>0.000622</td>\n      <td>0.012438</td>\n      <td>0.139303</td>\n      <td>0.490672</td>\n      <td>0.044154</td>\n    </tr>\n    <tr>\n      <th>32</th>\n      <td>LargeKitchenAppliances</td>\n      <td>0.011320</td>\n      <td>0.020270</td>\n      <td>0.103130</td>\n      <td>0.329658</td>\n      <td>0.174609</td>\n    </tr>\n    <tr>\n      <th>33</th>\n      <td>Lightning2</td>\n      <td>0.006700</td>\n      <td>0.190955</td>\n      <td>0.094640</td>\n      <td>0.329146</td>\n      <td>0.030988</td>\n    </tr>\n    <tr>\n      <th>34</th>\n      <td>Lightning7</td>\n      <td>0.016478</td>\n      <td>0.015446</td>\n      <td>0.085755</td>\n      <td>0.168374</td>\n      <td>0.078643</td>\n    </tr>\n    <tr>\n      <th>35</th>\n      <td>Mallat</td>\n      <td>0.000672</td>\n      <td>0.009409</td>\n      <td>0.050655</td>\n      <td>0.343162</td>\n      <td>0.094338</td>\n    </tr>\n    <tr>\n      <th>36</th>\n      <td>Meat</td>\n      <td>0.000595</td>\n      <td>0.002381</td>\n      <td>0.208334</td>\n      <td>0.328869</td>\n      <td>0.136012</td>\n    </tr>\n    <tr>\n      <th>37</th>\n      <td>MedicalImages</td>\n      <td>0.004446</td>\n      <td>0.004042</td>\n      <td>0.479790</td>\n      <td>0.696039</td>\n      <td>0.240097</td>\n    </tr>\n    <tr>\n      <th>38</th>\n      <td>MoteStrain</td>\n      <td>0.001786</td>\n      <td>0.039881</td>\n      <td>0.133929</td>\n      <td>0.491071</td>\n      <td>0.458929</td>\n    </tr>\n    <tr>\n      <th>39</th>\n      <td>NonInvasiveFetalECGThorax1</td>\n      <td>0.000564</td>\n      <td>0.010177</td>\n      <td>0.030709</td>\n      <td>0.145733</td>\n      <td>0.127101</td>\n    </tr>\n    <tr>\n      <th>40</th>\n      <td>NonInvasiveFetalECGThorax2</td>\n      <td>0.000366</td>\n      <td>0.007195</td>\n      <td>0.042792</td>\n      <td>0.117294</td>\n      <td>0.105740</td>\n    </tr>\n    <tr>\n      <th>41</th>\n      <td>OliveOil</td>\n      <td>0.002226</td>\n      <td>0.017814</td>\n      <td>0.096154</td>\n      <td>0.478070</td>\n      <td>0.200810</td>\n    </tr>\n    <tr>\n      <th>42</th>\n      <td>OSULeaf</td>\n      <td>0.001202</td>\n      <td>0.014423</td>\n      <td>0.086779</td>\n      <td>0.163462</td>\n      <td>0.087019</td>\n    </tr>\n    <tr>\n      <th>43</th>\n      <td>Plane</td>\n      <td>0.000706</td>\n      <td>0.003395</td>\n      <td>0.039418</td>\n      <td>0.175265</td>\n      <td>0.004674</td>\n    </tr>\n    <tr>\n      <th>44</th>\n      <td>ProximalPhalanxOutlineAgeGroup</td>\n      <td>0.031250</td>\n      <td>0.053125</td>\n      <td>0.206250</td>\n      <td>0.470625</td>\n      <td>0.470500</td>\n    </tr>\n    <tr>\n      <th>45</th>\n      <td>ProximalPhalanxTW</td>\n      <td>0.003083</td>\n      <td>0.008583</td>\n      <td>0.031667</td>\n      <td>0.075000</td>\n      <td>0.015917</td>\n    </tr>\n    <tr>\n      <th>46</th>\n      <td>ShapesAll</td>\n      <td>0.002852</td>\n      <td>0.002774</td>\n      <td>0.028515</td>\n      <td>0.174414</td>\n      <td>0.090195</td>\n    </tr>\n    <tr>\n      <th>47</th>\n      <td>SonyAIBORobotSurface1</td>\n      <td>0.001429</td>\n      <td>0.013571</td>\n      <td>0.003571</td>\n      <td>0.296429</td>\n      <td>0.070714</td>\n    </tr>\n    <tr>\n      <th>48</th>\n      <td>SonyAIBORobotSurface2</td>\n      <td>0.006838</td>\n      <td>0.007407</td>\n      <td>0.207977</td>\n      <td>0.393162</td>\n      <td>0.111681</td>\n    </tr>\n    <tr>\n      <th>49</th>\n      <td>StarLightCurves</td>\n      <td>0.002345</td>\n      <td>0.007815</td>\n      <td>0.105189</td>\n      <td>0.141763</td>\n      <td>0.038606</td>\n    </tr>\n    <tr>\n      <th>50</th>\n      <td>SwedishLeaf</td>\n      <td>0.001685</td>\n      <td>0.008425</td>\n      <td>0.060279</td>\n      <td>0.208257</td>\n      <td>0.061657</td>\n    </tr>\n    <tr>\n      <th>51</th>\n      <td>Symbols</td>\n      <td>0.004235</td>\n      <td>0.027704</td>\n      <td>0.175401</td>\n      <td>0.225693</td>\n      <td>0.048703</td>\n    </tr>\n    <tr>\n      <th>52</th>\n      <td>SyntheticControl</td>\n      <td>0.001267</td>\n      <td>0.006733</td>\n      <td>0.109000</td>\n      <td>0.195000</td>\n      <td>0.031133</td>\n    </tr>\n    <tr>\n      <th>53</th>\n      <td>ToeSegmentation1</td>\n      <td>0.000000</td>\n      <td>0.003249</td>\n      <td>0.332130</td>\n      <td>0.498195</td>\n      <td>0.189531</td>\n    </tr>\n    <tr>\n      <th>54</th>\n      <td>ToeSegmentation2</td>\n      <td>0.004861</td>\n      <td>0.005185</td>\n      <td>0.277706</td>\n      <td>0.489955</td>\n      <td>0.462411</td>\n    </tr>\n    <tr>\n      <th>55</th>\n      <td>Trace</td>\n      <td>0.004916</td>\n      <td>0.024578</td>\n      <td>0.114727</td>\n      <td>0.408966</td>\n      <td>0.136453</td>\n    </tr>\n    <tr>\n      <th>56</th>\n      <td>TwoLeadECG</td>\n      <td>0.002123</td>\n      <td>0.343949</td>\n      <td>0.235669</td>\n      <td>0.464968</td>\n      <td>0.339703</td>\n    </tr>\n    <tr>\n      <th>57</th>\n      <td>TwoPatterns</td>\n      <td>0.001833</td>\n      <td>0.003417</td>\n      <td>0.079500</td>\n      <td>0.240542</td>\n      <td>0.157583</td>\n    </tr>\n    <tr>\n      <th>58</th>\n      <td>UWaveGestureLibraryAll</td>\n      <td>0.000975</td>\n      <td>0.003428</td>\n      <td>0.089313</td>\n      <td>0.196802</td>\n      <td>0.032835</td>\n    </tr>\n    <tr>\n      <th>59</th>\n      <td>UWaveGestureLibraryX</td>\n      <td>0.001686</td>\n      <td>0.021380</td>\n      <td>0.115685</td>\n      <td>0.218062</td>\n      <td>0.090845</td>\n    </tr>\n    <tr>\n      <th>60</th>\n      <td>UWaveGestureLibraryY</td>\n      <td>0.004791</td>\n      <td>0.017122</td>\n      <td>0.058641</td>\n      <td>0.171487</td>\n      <td>0.062722</td>\n    </tr>\n    <tr>\n      <th>61</th>\n      <td>UWaveGestureLibraryZ</td>\n      <td>0.018542</td>\n      <td>0.010114</td>\n      <td>0.064851</td>\n      <td>0.200319</td>\n      <td>0.072569</td>\n    </tr>\n    <tr>\n      <th>62</th>\n      <td>Wafer</td>\n      <td>0.004212</td>\n      <td>0.012637</td>\n      <td>0.547599</td>\n      <td>0.084246</td>\n      <td>0.091828</td>\n    </tr>\n    <tr>\n      <th>63</th>\n      <td>WordSynonyms</td>\n      <td>0.001253</td>\n      <td>0.013778</td>\n      <td>0.270146</td>\n      <td>0.078080</td>\n      <td>0.081420</td>\n    </tr>\n    <tr>\n      <th>64</th>\n      <td>Worms</td>\n      <td>0.007686</td>\n      <td>0.020226</td>\n      <td>0.158980</td>\n      <td>0.330906</td>\n      <td>0.073624</td>\n    </tr>\n    <tr>\n      <th>65</th>\n      <td>Yoga</td>\n      <td>0.002692</td>\n      <td>0.004382</td>\n      <td>0.088894</td>\n      <td>0.542444</td>\n      <td>0.444723</td>\n    </tr>\n  </tbody>\n</table>\n</div>"
     },
     "execution_count": 2,
     "metadata": {},
     "output_type": "execute_result"
    }
   ],
   "source": [
    "df_scores = pd.read_csv(\"scores.csv\")\n",
    "df_scores"
   ]
  },
  {
   "cell_type": "markdown",
   "metadata": {},
   "source": [
    "Let's calculate the mean/std error."
   ]
  },
  {
   "cell_type": "code",
   "execution_count": 3,
   "metadata": {},
   "outputs": [
    {
     "name": "stdout",
     "output_type": "stream",
     "text": [
      "ClaSP: mean_error=0.00676\n",
      "FLOSS: mean_error=0.03796\n",
      "Window-L$_2$: mean_error=0.14442\n",
      "BinSeg-L$_2$: mean_error=0.31853\n",
      "BOCD: mean_error=0.17803\n"
     ]
    }
   ],
   "source": [
    "for name in df_scores.columns[1:]:\n",
    "    print(f\"{name}: mean_error={np.round(df_scores[name].mean(), 5)}\")"
   ]
  },
  {
   "cell_type": "code",
   "execution_count": 4,
   "metadata": {},
   "outputs": [
    {
     "name": "stdout",
     "output_type": "stream",
     "text": [
      "ClaSP: std_error=0.0132\n",
      "FLOSS: std_error=0.08931\n",
      "Window-L$_2$: std_error=0.12829\n",
      "BinSeg-L$_2$: std_error=0.1613\n",
      "BOCD: std_error=0.18312\n"
     ]
    }
   ],
   "source": [
    "for name in df_scores.columns[1:]:\n",
    "    print(f\"{name}: std_error={np.round(df_scores[name].std(), 5)}\")"
   ]
  },
  {
   "cell_type": "markdown",
   "metadata": {},
   "source": [
    "Let's compute the wins per method."
   ]
  },
  {
   "cell_type": "code",
   "execution_count": 5,
   "metadata": {},
   "outputs": [],
   "source": [
    "ranks = df_scores.rank(1, method = 'min', ascending=True)\n",
    "means = np.array(ranks.mean(axis=0))"
   ]
  },
  {
   "cell_type": "code",
   "execution_count": 6,
   "metadata": {},
   "outputs": [
    {
     "name": "stdout",
     "output_type": "stream",
     "text": [
      "ClaSP: wins=59\n",
      "FLOSS: wins=5\n",
      "Window-L$_2$: wins=1\n",
      "BinSeg-L$_2$: wins=0\n",
      "BOCD: wins=1\n"
     ]
    }
   ],
   "source": [
    "for name in df_scores.columns[1:]:\n",
    "    print(f\"{name}: wins={ranks[ranks[name] == 1].shape[0]}\")"
   ]
  },
  {
   "cell_type": "markdown",
   "metadata": {},
   "source": [
    "Let's plot and output the ranks."
   ]
  },
  {
   "cell_type": "code",
   "execution_count": 7,
   "metadata": {},
   "outputs": [
    {
     "data": {
      "text/plain": "<Figure size 576x118.8 with 1 Axes>",
      "image/png": "[encoded data removed]"
     },
     "metadata": {},
     "output_type": "display_data"
    }
   ],
   "source": [
    "cd = Orange.evaluation.scoring.compute_CD(means, df_scores.shape[0])\n",
    "Orange.evaluation.scoring.graph_ranks(means, df_scores.columns[1:], cd=cd, width=8, reverse=True, textspace=2.5)"
   ]
  },
  {
   "cell_type": "code",
   "execution_count": 8,
   "metadata": {},
   "outputs": [
    {
     "name": "stdout",
     "output_type": "stream",
     "text": [
      "ClaSP: rank=1.10606\n",
      "FLOSS: rank=2.10606\n",
      "Window-L$_2$: rank=3.42424\n",
      "BinSeg-L$_2$: rank=4.87879\n",
      "BOCD: rank=3.4697\n"
     ]
    }
   ],
   "source": [
    "for name, rank in zip(df_scores.columns[1:], means):\n",
    "    print(f\"{name}: rank={np.round(rank, 5)}\")"
   ]
  },
  {
   "cell_type": "markdown",
   "metadata": {},
   "source": [
    "Let's compute wins/losses against ClaSP."
   ]
  },
  {
   "cell_type": "code",
   "execution_count": 9,
   "metadata": {},
   "outputs": [
    {
     "name": "stdout",
     "output_type": "stream",
     "text": [
      "ClaSP vs FLOSS: (wins/losses/ties): 61/5/0\n",
      "ClaSP vs Window-L$_2$: (wins/losses/ties): 65/1/0\n",
      "ClaSP vs BinSeg-L$_2$: (wins/losses/ties): 66/0/0\n",
      "ClaSP vs BOCD: (wins/losses/ties): 65/1/0\n"
     ]
    }
   ],
   "source": [
    "for rival in df_scores.columns[1:]:\n",
    "    if rival == \"ClaSP\": continue\n",
    "    \n",
    "    df_pair = df_scores[[\"ClaSP\", rival]]\n",
    "    pair_ranks = df_pair.rank(1, method = 'min', ascending=True)\n",
    "    \n",
    "    wins = pair_ranks[(pair_ranks[\"ClaSP\"] == 1) & (pair_ranks[rival] == 2)].shape[0]\n",
    "    losses = pair_ranks[(pair_ranks[\"ClaSP\"] == 2) & (pair_ranks[rival] == 1)].shape[0]\n",
    "    ties = pair_ranks[(pair_ranks[\"ClaSP\"] == 1) & (pair_ranks[rival] == 1)].shape[0]\n",
    "    \n",
    "    assert wins + losses + ties == pair_ranks.shape[0]\n",
    "    \n",
    "    print(f\"ClaSP vs {rival}: (wins/losses/ties): {wins}/{losses}/{ties}\")"
   ]
  },
  {
   "cell_type": "code",
   "execution_count": 9,
   "metadata": {},
   "outputs": [],
   "source": []
  }
 ],
 "metadata": {
  "kernelspec": {
   "display_name": "Python 3 (ipykernel)",
   "language": "python",
   "name": "python3"
  },
  "language_info": {
   "codemirror_mode": {
    "name": "ipython",
    "version": 3
   },
   "file_extension": ".py",
   "mimetype": "text/x-python",
   "name": "python",
   "nbconvert_exporter": "python",
   "pygments_lexer": "ipython3",
   "version": "3.8.12"
  }
 },
 "nbformat": 4,
 "nbformat_minor": 4
}