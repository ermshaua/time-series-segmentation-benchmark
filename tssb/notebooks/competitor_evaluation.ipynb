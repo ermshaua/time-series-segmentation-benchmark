{
 "cells": [
  {
   "cell_type": "markdown",
   "metadata": {},
   "source": [
    "# Time Series Segmentation\n",
    "In this notebook, we test ClaSP against rival methods."
   ]
  },
  {
   "cell_type": "code",
   "execution_count": 113,
   "metadata": {},
   "outputs": [],
   "source": [
    "import numpy as np\n",
    "import pandas as pd\n",
    "import daproli as dp\n",
    "\n",
    "import pandas as pd\n",
    "pd.set_option('display.max_rows', None)\n",
    "\n",
    "import matplotlib.pyplot as plt\n",
    "import seaborn as sns\n",
    "\n",
    "sns.set_theme()\n",
    "sns.set_color_codes()\n",
    "\n",
    "import Orange\n",
    "import sys\n",
    "sys.path.append(\"../../\")\n",
    "\n",
    "from tqdm import tqdm"
   ]
  },
  {
   "cell_type": "markdown",
   "metadata": {},
   "source": [
    "Let's load the scores from the different methods."
   ]
  },
  {
   "cell_type": "code",
   "execution_count": 114,
   "metadata": {},
   "outputs": [
    {
     "data": {
      "text/plain": "                           dataset  ESPRESSO   BOCD  Window   PELT  BinSeg  \\\n0                            Adiac     0.408  0.303   0.303  0.303   0.303   \n1                        ArrowHead     0.701  0.483   0.500  0.500   0.500   \n2                             Beef     0.487  0.344   0.500  0.500   0.500   \n3                        BeetleFly     0.656  0.716   0.500  0.500   0.500   \n4                      BirdChicken     0.459  0.366   0.500  0.500   0.500   \n5                              CBF     0.505  0.613   0.342  0.342   0.342   \n6                              Car     0.339  0.256   0.256  0.256   0.256   \n7                        Chinatown     0.367  1.000   1.000  1.000   1.000   \n8            ChlorineConcentration     0.398  0.664   0.577  0.577   0.577   \n9                     CinCECGTorso     0.496  0.551   0.337  0.337   0.337   \n10                          Coffee     0.573  0.466   0.500  0.500   0.500   \n11                       Computers     0.496  0.882   0.500  0.457   0.527   \n12                        CricketX     0.408  0.211   0.203  0.769   0.769   \n13                        CricketY     0.329  0.208   0.202  0.747   0.747   \n14                        CricketZ     0.240  0.201   0.202  0.740   0.740   \n15                            Crop     0.287  0.244   0.125  0.987   0.987   \n16             DiatomSizeReduction     0.476  0.567   0.342  0.342   0.342   \n17    DistalPhalanxOutlineAgeGroup     0.407  0.668   0.668  0.668   0.668   \n18                 DistalPhalanxTW     0.836  0.474   0.474  0.474   0.474   \n19                   DodgerLoopDay     0.773  0.254   1.000  1.000   1.000   \n20                          ECG200     0.673  0.572   0.572  0.983   0.983   \n21                     ECGFiveDays     0.527  0.524   0.524  0.524   0.524   \n22             EOGHorizontalSignal     0.382  0.797   0.256  0.256   0.256   \n23               EOGVerticalSignal     0.439  0.664   0.170  0.170   0.170   \n24                         FaceAll     0.177  0.266   0.143  0.760   0.797   \n25                        FaceFour     0.527  0.531   0.281  0.572   0.586   \n26                        FacesUCR     0.221  0.183   0.152  0.717   0.776   \n27                      FiftyWords     0.437  0.533   0.278  0.975   0.951   \n28                            Fish     0.222  0.263   0.144  0.144   0.144   \n29             FreezerRegularTrain     0.299  0.764   0.260  0.260   0.260   \n30                        GunPoint     0.474  0.402   0.501  0.501   0.501   \n31                             Ham     0.251  0.619   0.251  0.552   0.251   \n32                         Haptics     0.438  0.540   0.356  0.356   0.356   \n33                         Herring     0.702  0.307   1.000  1.000   1.000   \n34                     InlineSkate     0.312  0.376   0.358  0.358   0.358   \n35             InsectWingbeatSound     0.325  0.250   0.250  0.992   0.985   \n36                ItalyPowerDemand     0.432  0.500   0.500  0.500   0.500   \n37          LargeKitchenAppliances     0.493  0.473   0.333  0.333   0.333   \n38                      Lightning2     0.817  0.556   0.556  0.556   0.556   \n39                      Lightning7     0.358  0.446   0.215  0.377   0.388   \n40                          Mallat     0.503  0.626   0.267  0.267   0.267   \n41                            Meat     0.313  0.401   0.333  0.333   0.333   \n42                   MedicalImages     0.450  0.377   0.580  0.464   0.923   \n43             MelbournePedestrian     0.246  0.149   0.149  0.793   0.587   \n44    MiddlePhalanxOutlineAgeGroup     0.361  0.387   0.250  0.250   0.250   \n45     MiddlePhalanxOutlineCorrect     0.370  0.334   0.334  0.618   0.618   \n46                 MiddlePhalanxTW     0.754  0.575   1.000  1.000   1.000   \n47                      MoteStrain     0.562  0.336   0.500  0.420   0.423   \n48      NonInvasiveFetalECGThorax1     0.250  0.305   0.169  0.658   0.658   \n49      NonInvasiveFetalECGThorax2     0.177  0.257   0.145  0.705   0.419   \n50                         OSULeaf     0.391  0.365   0.365  0.745   0.745   \n51                        OliveOil     0.614  0.682   0.382  0.382   0.382   \n52                           Plane     0.357  0.145   0.150  0.441   0.150   \n53  ProximalPhalanxOutlineAgeGroup     0.315  0.376   0.376  0.675   0.675   \n54   ProximalPhalanxOutlineCorrect     0.408  0.292   0.292  0.550   0.550   \n55               ProximalPhalanxTW     0.467  0.395   0.395  0.395   0.395   \n56                     ShapeletSim     0.370  1.000   1.000  0.786   0.786   \n57                       ShapesAll     0.290  0.450   0.200  0.200   0.200   \n58           SonyAIBORobotSurface1     0.734  0.388   0.580  0.832   0.832   \n59           SonyAIBORobotSurface2     0.690  0.623   0.517  1.000   1.000   \n60                      Strawberry     0.339  0.270   0.332  0.332   0.332   \n61                     SwedishLeaf     0.356  0.252   0.252  0.723   0.730   \n62                         Symbols     0.462  0.575   0.297  0.297   0.297   \n63                SyntheticControl     0.459  0.199   0.200  0.797   0.797   \n64                ToeSegmentation1     0.458  0.813   0.500  0.947   0.947   \n65                ToeSegmentation2     0.472  0.593   0.500  0.500   0.500   \n66                           Trace     0.318  0.400   0.344  0.344   0.344   \n67                      TwoLeadECG     0.718  0.501   0.501  0.501   0.501   \n68                             UMD     0.568  0.218   1.000  1.000   1.000   \n69          UWaveGestureLibraryAll     0.219  0.372   0.201  0.884   0.887   \n70            UWaveGestureLibraryX     0.410  0.201   0.201  0.502   0.497   \n71            UWaveGestureLibraryY     0.312  0.201   0.201  0.599   0.599   \n72            UWaveGestureLibraryZ     0.423  0.201   0.201  0.760   0.760   \n73                    WordSynonyms     0.547  0.775   0.727  0.988   0.988   \n74                            Yoga     0.439  0.589   0.504  0.504   0.504   \n\n    FLOSS  ClaSP  \n0   0.809  0.816  \n1   0.995  0.996  \n2   0.935  0.848  \n3   0.500  1.000  \n4   0.500  0.500  \n5   0.861  0.680  \n6   0.256  0.761  \n7   0.704  1.000  \n8   0.577  0.577  \n9   0.337  0.828  \n10  0.899  0.994  \n11  0.500  0.975  \n12  0.203  0.986  \n13  0.202  0.985  \n14  0.202  0.935  \n15  0.125  0.986  \n16  0.761  0.947  \n17  0.934  0.930  \n18  0.745  0.739  \n19  1.000  1.000  \n20  0.968  0.970  \n21  0.524  0.524  \n22  0.256  0.922  \n23  0.170  0.662  \n24  0.394  0.994  \n25  0.576  0.281  \n26  0.640  0.929  \n27  0.584  0.991  \n28  0.144  0.963  \n29  0.260  0.916  \n30  0.501  0.993  \n31  0.251  0.918  \n32  0.356  0.356  \n33  1.000  1.000  \n34  0.358  0.358  \n35  0.792  0.980  \n36  0.875  0.986  \n37  0.333  0.652  \n38  0.556  0.556  \n39  0.215  0.626  \n40  0.564  0.996  \n41  0.803  0.580  \n42  0.580  0.993  \n43  0.377  0.987  \n44  0.250  0.818  \n45  0.618  0.818  \n46  1.000  1.000  \n47  0.500  0.985  \n48  0.333  0.985  \n49  0.412  0.990  \n50  0.695  0.995  \n51  0.755  0.754  \n52  0.960  0.992  \n53  0.671  0.884  \n54  0.538  0.739  \n55  0.497  0.982  \n56  1.000  1.000  \n57  0.765  0.984  \n58  0.580  0.580  \n59  0.517  0.979  \n60  0.332  0.494  \n61  0.463  0.997  \n62  0.297  0.833  \n63  0.733  0.937  \n64  0.500  1.000  \n65  0.500  0.997  \n66  0.750  0.652  \n67  0.501  0.501  \n68  1.000  1.000  \n69  0.564  0.992  \n70  0.549  0.987  \n71  0.201  0.963  \n72  0.602  0.810  \n73  0.846  0.845  \n74  0.504  0.995  ",
      "text/html": "<div>\n<style scoped>\n    .dataframe tbody tr th:only-of-type {\n        vertical-align: middle;\n    }\n\n    .dataframe tbody tr th {\n        vertical-align: top;\n    }\n\n    .dataframe thead th {\n        text-align: right;\n    }\n</style>\n<table border=\"1\" class=\"dataframe\">\n  <thead>\n    <tr style=\"text-align: right;\">\n      <th></th>\n      <th>dataset</th>\n      <th>ESPRESSO</th>\n      <th>BOCD</th>\n      <th>Window</th>\n      <th>PELT</th>\n      <th>BinSeg</th>\n      <th>FLOSS</th>\n      <th>ClaSP</th>\n    </tr>\n  </thead>\n  <tbody>\n    <tr>\n      <th>0</th>\n      <td>Adiac</td>\n      <td>0.408</td>\n      <td>0.303</td>\n      <td>0.303</td>\n      <td>0.303</td>\n      <td>0.303</td>\n      <td>0.809</td>\n      <td>0.816</td>\n    </tr>\n    <tr>\n      <th>1</th>\n      <td>ArrowHead</td>\n      <td>0.701</td>\n      <td>0.483</td>\n      <td>0.500</td>\n      <td>0.500</td>\n      <td>0.500</td>\n      <td>0.995</td>\n      <td>0.996</td>\n    </tr>\n    <tr>\n      <th>2</th>\n      <td>Beef</td>\n      <td>0.487</td>\n      <td>0.344</td>\n      <td>0.500</td>\n      <td>0.500</td>\n      <td>0.500</td>\n      <td>0.935</td>\n      <td>0.848</td>\n    </tr>\n    <tr>\n      <th>3</th>\n      <td>BeetleFly</td>\n      <td>0.656</td>\n      <td>0.716</td>\n      <td>0.500</td>\n      <td>0.500</td>\n      <td>0.500</td>\n      <td>0.500</td>\n      <td>1.000</td>\n    </tr>\n    <tr>\n      <th>4</th>\n      <td>BirdChicken</td>\n      <td>0.459</td>\n      <td>0.366</td>\n      <td>0.500</td>\n      <td>0.500</td>\n      <td>0.500</td>\n      <td>0.500</td>\n      <td>0.500</td>\n    </tr>\n    <tr>\n      <th>5</th>\n      <td>CBF</td>\n      <td>0.505</td>\n      <td>0.613</td>\n      <td>0.342</td>\n      <td>0.342</td>\n      <td>0.342</td>\n      <td>0.861</td>\n      <td>0.680</td>\n    </tr>\n    <tr>\n      <th>6</th>\n      <td>Car</td>\n      <td>0.339</td>\n      <td>0.256</td>\n      <td>0.256</td>\n      <td>0.256</td>\n      <td>0.256</td>\n      <td>0.256</td>\n      <td>0.761</td>\n    </tr>\n    <tr>\n      <th>7</th>\n      <td>Chinatown</td>\n      <td>0.367</td>\n      <td>1.000</td>\n      <td>1.000</td>\n      <td>1.000</td>\n      <td>1.000</td>\n      <td>0.704</td>\n      <td>1.000</td>\n    </tr>\n    <tr>\n      <th>8</th>\n      <td>ChlorineConcentration</td>\n      <td>0.398</td>\n      <td>0.664</td>\n      <td>0.577</td>\n      <td>0.577</td>\n      <td>0.577</td>\n      <td>0.577</td>\n      <td>0.577</td>\n    </tr>\n    <tr>\n      <th>9</th>\n      <td>CinCECGTorso</td>\n      <td>0.496</td>\n      <td>0.551</td>\n      <td>0.337</td>\n      <td>0.337</td>\n      <td>0.337</td>\n      <td>0.337</td>\n      <td>0.828</td>\n    </tr>\n    <tr>\n      <th>10</th>\n      <td>Coffee</td>\n      <td>0.573</td>\n      <td>0.466</td>\n      <td>0.500</td>\n      <td>0.500</td>\n      <td>0.500</td>\n      <td>0.899</td>\n      <td>0.994</td>\n    </tr>\n    <tr>\n      <th>11</th>\n      <td>Computers</td>\n      <td>0.496</td>\n      <td>0.882</td>\n      <td>0.500</td>\n      <td>0.457</td>\n      <td>0.527</td>\n      <td>0.500</td>\n      <td>0.975</td>\n    </tr>\n    <tr>\n      <th>12</th>\n      <td>CricketX</td>\n      <td>0.408</td>\n      <td>0.211</td>\n      <td>0.203</td>\n      <td>0.769</td>\n      <td>0.769</td>\n      <td>0.203</td>\n      <td>0.986</td>\n    </tr>\n    <tr>\n      <th>13</th>\n      <td>CricketY</td>\n      <td>0.329</td>\n      <td>0.208</td>\n      <td>0.202</td>\n      <td>0.747</td>\n      <td>0.747</td>\n      <td>0.202</td>\n      <td>0.985</td>\n    </tr>\n    <tr>\n      <th>14</th>\n      <td>CricketZ</td>\n      <td>0.240</td>\n      <td>0.201</td>\n      <td>0.202</td>\n      <td>0.740</td>\n      <td>0.740</td>\n      <td>0.202</td>\n      <td>0.935</td>\n    </tr>\n    <tr>\n      <th>15</th>\n      <td>Crop</td>\n      <td>0.287</td>\n      <td>0.244</td>\n      <td>0.125</td>\n      <td>0.987</td>\n      <td>0.987</td>\n      <td>0.125</td>\n      <td>0.986</td>\n    </tr>\n    <tr>\n      <th>16</th>\n      <td>DiatomSizeReduction</td>\n      <td>0.476</td>\n      <td>0.567</td>\n      <td>0.342</td>\n      <td>0.342</td>\n      <td>0.342</td>\n      <td>0.761</td>\n      <td>0.947</td>\n    </tr>\n    <tr>\n      <th>17</th>\n      <td>DistalPhalanxOutlineAgeGroup</td>\n      <td>0.407</td>\n      <td>0.668</td>\n      <td>0.668</td>\n      <td>0.668</td>\n      <td>0.668</td>\n      <td>0.934</td>\n      <td>0.930</td>\n    </tr>\n    <tr>\n      <th>18</th>\n      <td>DistalPhalanxTW</td>\n      <td>0.836</td>\n      <td>0.474</td>\n      <td>0.474</td>\n      <td>0.474</td>\n      <td>0.474</td>\n      <td>0.745</td>\n      <td>0.739</td>\n    </tr>\n    <tr>\n      <th>19</th>\n      <td>DodgerLoopDay</td>\n      <td>0.773</td>\n      <td>0.254</td>\n      <td>1.000</td>\n      <td>1.000</td>\n      <td>1.000</td>\n      <td>1.000</td>\n      <td>1.000</td>\n    </tr>\n    <tr>\n      <th>20</th>\n      <td>ECG200</td>\n      <td>0.673</td>\n      <td>0.572</td>\n      <td>0.572</td>\n      <td>0.983</td>\n      <td>0.983</td>\n      <td>0.968</td>\n      <td>0.970</td>\n    </tr>\n    <tr>\n      <th>21</th>\n      <td>ECGFiveDays</td>\n      <td>0.527</td>\n      <td>0.524</td>\n      <td>0.524</td>\n      <td>0.524</td>\n      <td>0.524</td>\n      <td>0.524</td>\n      <td>0.524</td>\n    </tr>\n    <tr>\n      <th>22</th>\n      <td>EOGHorizontalSignal</td>\n      <td>0.382</td>\n      <td>0.797</td>\n      <td>0.256</td>\n      <td>0.256</td>\n      <td>0.256</td>\n      <td>0.256</td>\n      <td>0.922</td>\n    </tr>\n    <tr>\n      <th>23</th>\n      <td>EOGVerticalSignal</td>\n      <td>0.439</td>\n      <td>0.664</td>\n      <td>0.170</td>\n      <td>0.170</td>\n      <td>0.170</td>\n      <td>0.170</td>\n      <td>0.662</td>\n    </tr>\n    <tr>\n      <th>24</th>\n      <td>FaceAll</td>\n      <td>0.177</td>\n      <td>0.266</td>\n      <td>0.143</td>\n      <td>0.760</td>\n      <td>0.797</td>\n      <td>0.394</td>\n      <td>0.994</td>\n    </tr>\n    <tr>\n      <th>25</th>\n      <td>FaceFour</td>\n      <td>0.527</td>\n      <td>0.531</td>\n      <td>0.281</td>\n      <td>0.572</td>\n      <td>0.586</td>\n      <td>0.576</td>\n      <td>0.281</td>\n    </tr>\n    <tr>\n      <th>26</th>\n      <td>FacesUCR</td>\n      <td>0.221</td>\n      <td>0.183</td>\n      <td>0.152</td>\n      <td>0.717</td>\n      <td>0.776</td>\n      <td>0.640</td>\n      <td>0.929</td>\n    </tr>\n    <tr>\n      <th>27</th>\n      <td>FiftyWords</td>\n      <td>0.437</td>\n      <td>0.533</td>\n      <td>0.278</td>\n      <td>0.975</td>\n      <td>0.951</td>\n      <td>0.584</td>\n      <td>0.991</td>\n    </tr>\n    <tr>\n      <th>28</th>\n      <td>Fish</td>\n      <td>0.222</td>\n      <td>0.263</td>\n      <td>0.144</td>\n      <td>0.144</td>\n      <td>0.144</td>\n      <td>0.144</td>\n      <td>0.963</td>\n    </tr>\n    <tr>\n      <th>29</th>\n      <td>FreezerRegularTrain</td>\n      <td>0.299</td>\n      <td>0.764</td>\n      <td>0.260</td>\n      <td>0.260</td>\n      <td>0.260</td>\n      <td>0.260</td>\n      <td>0.916</td>\n    </tr>\n    <tr>\n      <th>30</th>\n      <td>GunPoint</td>\n      <td>0.474</td>\n      <td>0.402</td>\n      <td>0.501</td>\n      <td>0.501</td>\n      <td>0.501</td>\n      <td>0.501</td>\n      <td>0.993</td>\n    </tr>\n    <tr>\n      <th>31</th>\n      <td>Ham</td>\n      <td>0.251</td>\n      <td>0.619</td>\n      <td>0.251</td>\n      <td>0.552</td>\n      <td>0.251</td>\n      <td>0.251</td>\n      <td>0.918</td>\n    </tr>\n    <tr>\n      <th>32</th>\n      <td>Haptics</td>\n      <td>0.438</td>\n      <td>0.540</td>\n      <td>0.356</td>\n      <td>0.356</td>\n      <td>0.356</td>\n      <td>0.356</td>\n      <td>0.356</td>\n    </tr>\n    <tr>\n      <th>33</th>\n      <td>Herring</td>\n      <td>0.702</td>\n      <td>0.307</td>\n      <td>1.000</td>\n      <td>1.000</td>\n      <td>1.000</td>\n      <td>1.000</td>\n      <td>1.000</td>\n    </tr>\n    <tr>\n      <th>34</th>\n      <td>InlineSkate</td>\n      <td>0.312</td>\n      <td>0.376</td>\n      <td>0.358</td>\n      <td>0.358</td>\n      <td>0.358</td>\n      <td>0.358</td>\n      <td>0.358</td>\n    </tr>\n    <tr>\n      <th>35</th>\n      <td>InsectWingbeatSound</td>\n      <td>0.325</td>\n      <td>0.250</td>\n      <td>0.250</td>\n      <td>0.992</td>\n      <td>0.985</td>\n      <td>0.792</td>\n      <td>0.980</td>\n    </tr>\n    <tr>\n      <th>36</th>\n      <td>ItalyPowerDemand</td>\n      <td>0.432</td>\n      <td>0.500</td>\n      <td>0.500</td>\n      <td>0.500</td>\n      <td>0.500</td>\n      <td>0.875</td>\n      <td>0.986</td>\n    </tr>\n    <tr>\n      <th>37</th>\n      <td>LargeKitchenAppliances</td>\n      <td>0.493</td>\n      <td>0.473</td>\n      <td>0.333</td>\n      <td>0.333</td>\n      <td>0.333</td>\n      <td>0.333</td>\n      <td>0.652</td>\n    </tr>\n    <tr>\n      <th>38</th>\n      <td>Lightning2</td>\n      <td>0.817</td>\n      <td>0.556</td>\n      <td>0.556</td>\n      <td>0.556</td>\n      <td>0.556</td>\n      <td>0.556</td>\n      <td>0.556</td>\n    </tr>\n    <tr>\n      <th>39</th>\n      <td>Lightning7</td>\n      <td>0.358</td>\n      <td>0.446</td>\n      <td>0.215</td>\n      <td>0.377</td>\n      <td>0.388</td>\n      <td>0.215</td>\n      <td>0.626</td>\n    </tr>\n    <tr>\n      <th>40</th>\n      <td>Mallat</td>\n      <td>0.503</td>\n      <td>0.626</td>\n      <td>0.267</td>\n      <td>0.267</td>\n      <td>0.267</td>\n      <td>0.564</td>\n      <td>0.996</td>\n    </tr>\n    <tr>\n      <th>41</th>\n      <td>Meat</td>\n      <td>0.313</td>\n      <td>0.401</td>\n      <td>0.333</td>\n      <td>0.333</td>\n      <td>0.333</td>\n      <td>0.803</td>\n      <td>0.580</td>\n    </tr>\n    <tr>\n      <th>42</th>\n      <td>MedicalImages</td>\n      <td>0.450</td>\n      <td>0.377</td>\n      <td>0.580</td>\n      <td>0.464</td>\n      <td>0.923</td>\n      <td>0.580</td>\n      <td>0.993</td>\n    </tr>\n    <tr>\n      <th>43</th>\n      <td>MelbournePedestrian</td>\n      <td>0.246</td>\n      <td>0.149</td>\n      <td>0.149</td>\n      <td>0.793</td>\n      <td>0.587</td>\n      <td>0.377</td>\n      <td>0.987</td>\n    </tr>\n    <tr>\n      <th>44</th>\n      <td>MiddlePhalanxOutlineAgeGroup</td>\n      <td>0.361</td>\n      <td>0.387</td>\n      <td>0.250</td>\n      <td>0.250</td>\n      <td>0.250</td>\n      <td>0.250</td>\n      <td>0.818</td>\n    </tr>\n    <tr>\n      <th>45</th>\n      <td>MiddlePhalanxOutlineCorrect</td>\n      <td>0.370</td>\n      <td>0.334</td>\n      <td>0.334</td>\n      <td>0.618</td>\n      <td>0.618</td>\n      <td>0.618</td>\n      <td>0.818</td>\n    </tr>\n    <tr>\n      <th>46</th>\n      <td>MiddlePhalanxTW</td>\n      <td>0.754</td>\n      <td>0.575</td>\n      <td>1.000</td>\n      <td>1.000</td>\n      <td>1.000</td>\n      <td>1.000</td>\n      <td>1.000</td>\n    </tr>\n    <tr>\n      <th>47</th>\n      <td>MoteStrain</td>\n      <td>0.562</td>\n      <td>0.336</td>\n      <td>0.500</td>\n      <td>0.420</td>\n      <td>0.423</td>\n      <td>0.500</td>\n      <td>0.985</td>\n    </tr>\n    <tr>\n      <th>48</th>\n      <td>NonInvasiveFetalECGThorax1</td>\n      <td>0.250</td>\n      <td>0.305</td>\n      <td>0.169</td>\n      <td>0.658</td>\n      <td>0.658</td>\n      <td>0.333</td>\n      <td>0.985</td>\n    </tr>\n    <tr>\n      <th>49</th>\n      <td>NonInvasiveFetalECGThorax2</td>\n      <td>0.177</td>\n      <td>0.257</td>\n      <td>0.145</td>\n      <td>0.705</td>\n      <td>0.419</td>\n      <td>0.412</td>\n      <td>0.990</td>\n    </tr>\n    <tr>\n      <th>50</th>\n      <td>OSULeaf</td>\n      <td>0.391</td>\n      <td>0.365</td>\n      <td>0.365</td>\n      <td>0.745</td>\n      <td>0.745</td>\n      <td>0.695</td>\n      <td>0.995</td>\n    </tr>\n    <tr>\n      <th>51</th>\n      <td>OliveOil</td>\n      <td>0.614</td>\n      <td>0.682</td>\n      <td>0.382</td>\n      <td>0.382</td>\n      <td>0.382</td>\n      <td>0.755</td>\n      <td>0.754</td>\n    </tr>\n    <tr>\n      <th>52</th>\n      <td>Plane</td>\n      <td>0.357</td>\n      <td>0.145</td>\n      <td>0.150</td>\n      <td>0.441</td>\n      <td>0.150</td>\n      <td>0.960</td>\n      <td>0.992</td>\n    </tr>\n    <tr>\n      <th>53</th>\n      <td>ProximalPhalanxOutlineAgeGroup</td>\n      <td>0.315</td>\n      <td>0.376</td>\n      <td>0.376</td>\n      <td>0.675</td>\n      <td>0.675</td>\n      <td>0.671</td>\n      <td>0.884</td>\n    </tr>\n    <tr>\n      <th>54</th>\n      <td>ProximalPhalanxOutlineCorrect</td>\n      <td>0.408</td>\n      <td>0.292</td>\n      <td>0.292</td>\n      <td>0.550</td>\n      <td>0.550</td>\n      <td>0.538</td>\n      <td>0.739</td>\n    </tr>\n    <tr>\n      <th>55</th>\n      <td>ProximalPhalanxTW</td>\n      <td>0.467</td>\n      <td>0.395</td>\n      <td>0.395</td>\n      <td>0.395</td>\n      <td>0.395</td>\n      <td>0.497</td>\n      <td>0.982</td>\n    </tr>\n    <tr>\n      <th>56</th>\n      <td>ShapeletSim</td>\n      <td>0.370</td>\n      <td>1.000</td>\n      <td>1.000</td>\n      <td>0.786</td>\n      <td>0.786</td>\n      <td>1.000</td>\n      <td>1.000</td>\n    </tr>\n    <tr>\n      <th>57</th>\n      <td>ShapesAll</td>\n      <td>0.290</td>\n      <td>0.450</td>\n      <td>0.200</td>\n      <td>0.200</td>\n      <td>0.200</td>\n      <td>0.765</td>\n      <td>0.984</td>\n    </tr>\n    <tr>\n      <th>58</th>\n      <td>SonyAIBORobotSurface1</td>\n      <td>0.734</td>\n      <td>0.388</td>\n      <td>0.580</td>\n      <td>0.832</td>\n      <td>0.832</td>\n      <td>0.580</td>\n      <td>0.580</td>\n    </tr>\n    <tr>\n      <th>59</th>\n      <td>SonyAIBORobotSurface2</td>\n      <td>0.690</td>\n      <td>0.623</td>\n      <td>0.517</td>\n      <td>1.000</td>\n      <td>1.000</td>\n      <td>0.517</td>\n      <td>0.979</td>\n    </tr>\n    <tr>\n      <th>60</th>\n      <td>Strawberry</td>\n      <td>0.339</td>\n      <td>0.270</td>\n      <td>0.332</td>\n      <td>0.332</td>\n      <td>0.332</td>\n      <td>0.332</td>\n      <td>0.494</td>\n    </tr>\n    <tr>\n      <th>61</th>\n      <td>SwedishLeaf</td>\n      <td>0.356</td>\n      <td>0.252</td>\n      <td>0.252</td>\n      <td>0.723</td>\n      <td>0.730</td>\n      <td>0.463</td>\n      <td>0.997</td>\n    </tr>\n    <tr>\n      <th>62</th>\n      <td>Symbols</td>\n      <td>0.462</td>\n      <td>0.575</td>\n      <td>0.297</td>\n      <td>0.297</td>\n      <td>0.297</td>\n      <td>0.297</td>\n      <td>0.833</td>\n    </tr>\n    <tr>\n      <th>63</th>\n      <td>SyntheticControl</td>\n      <td>0.459</td>\n      <td>0.199</td>\n      <td>0.200</td>\n      <td>0.797</td>\n      <td>0.797</td>\n      <td>0.733</td>\n      <td>0.937</td>\n    </tr>\n    <tr>\n      <th>64</th>\n      <td>ToeSegmentation1</td>\n      <td>0.458</td>\n      <td>0.813</td>\n      <td>0.500</td>\n      <td>0.947</td>\n      <td>0.947</td>\n      <td>0.500</td>\n      <td>1.000</td>\n    </tr>\n    <tr>\n      <th>65</th>\n      <td>ToeSegmentation2</td>\n      <td>0.472</td>\n      <td>0.593</td>\n      <td>0.500</td>\n      <td>0.500</td>\n      <td>0.500</td>\n      <td>0.500</td>\n      <td>0.997</td>\n    </tr>\n    <tr>\n      <th>66</th>\n      <td>Trace</td>\n      <td>0.318</td>\n      <td>0.400</td>\n      <td>0.344</td>\n      <td>0.344</td>\n      <td>0.344</td>\n      <td>0.750</td>\n      <td>0.652</td>\n    </tr>\n    <tr>\n      <th>67</th>\n      <td>TwoLeadECG</td>\n      <td>0.718</td>\n      <td>0.501</td>\n      <td>0.501</td>\n      <td>0.501</td>\n      <td>0.501</td>\n      <td>0.501</td>\n      <td>0.501</td>\n    </tr>\n    <tr>\n      <th>68</th>\n      <td>UMD</td>\n      <td>0.568</td>\n      <td>0.218</td>\n      <td>1.000</td>\n      <td>1.000</td>\n      <td>1.000</td>\n      <td>1.000</td>\n      <td>1.000</td>\n    </tr>\n    <tr>\n      <th>69</th>\n      <td>UWaveGestureLibraryAll</td>\n      <td>0.219</td>\n      <td>0.372</td>\n      <td>0.201</td>\n      <td>0.884</td>\n      <td>0.887</td>\n      <td>0.564</td>\n      <td>0.992</td>\n    </tr>\n    <tr>\n      <th>70</th>\n      <td>UWaveGestureLibraryX</td>\n      <td>0.410</td>\n      <td>0.201</td>\n      <td>0.201</td>\n      <td>0.502</td>\n      <td>0.497</td>\n      <td>0.549</td>\n      <td>0.987</td>\n    </tr>\n    <tr>\n      <th>71</th>\n      <td>UWaveGestureLibraryY</td>\n      <td>0.312</td>\n      <td>0.201</td>\n      <td>0.201</td>\n      <td>0.599</td>\n      <td>0.599</td>\n      <td>0.201</td>\n      <td>0.963</td>\n    </tr>\n    <tr>\n      <th>72</th>\n      <td>UWaveGestureLibraryZ</td>\n      <td>0.423</td>\n      <td>0.201</td>\n      <td>0.201</td>\n      <td>0.760</td>\n      <td>0.760</td>\n      <td>0.602</td>\n      <td>0.810</td>\n    </tr>\n    <tr>\n      <th>73</th>\n      <td>WordSynonyms</td>\n      <td>0.547</td>\n      <td>0.775</td>\n      <td>0.727</td>\n      <td>0.988</td>\n      <td>0.988</td>\n      <td>0.846</td>\n      <td>0.845</td>\n    </tr>\n    <tr>\n      <th>74</th>\n      <td>Yoga</td>\n      <td>0.439</td>\n      <td>0.589</td>\n      <td>0.504</td>\n      <td>0.504</td>\n      <td>0.504</td>\n      <td>0.504</td>\n      <td>0.995</td>\n    </tr>\n  </tbody>\n</table>\n</div>"
     },
     "execution_count": 114,
     "metadata": {},
     "output_type": "execute_result"
    }
   ],
   "source": [
    "df_scores = pd.read_csv(\"segmentation_covering_unknown.csv\")\n",
    "df_scores"
   ]
  },
  {
   "cell_type": "markdown",
   "metadata": {},
   "source": [
    "Let's calculate the mean/median/std error."
   ]
  },
  {
   "cell_type": "code",
   "execution_count": 115,
   "metadata": {},
   "outputs": [
    {
     "name": "stdout",
     "output_type": "stream",
     "text": [
      "ESPRESSO: mean_error=44.36\n",
      "BOCD: mean_error=44.88\n",
      "Window: mean_error=40.1\n",
      "PELT: mean_error=58.1\n",
      "BinSeg: mean_error=57.49\n",
      "FLOSS: mean_error=56.74\n",
      "ClaSP: mean_error=85.47\n"
     ]
    }
   ],
   "source": [
    "for name in df_scores.columns[1:]:\n",
    "    print(f\"{name}: mean_error={np.round(df_scores[name].mean() * 100, 2)}\")"
   ]
  },
  {
   "cell_type": "code",
   "execution_count": 116,
   "outputs": [
    {
     "name": "stdout",
     "output_type": "stream",
     "text": [
      "ESPRESSO: mean_error=43.2\n",
      "BOCD: mean_error=40.1\n",
      "Window: mean_error=34.2\n",
      "PELT: mean_error=50.4\n",
      "BinSeg: mean_error=50.4\n",
      "FLOSS: mean_error=54.9\n",
      "ClaSP: mean_error=96.3\n"
     ]
    }
   ],
   "source": [
    "for name in df_scores.columns[1:]:\n",
    "    print(f\"{name}: mean_error={np.round(df_scores[name].median() * 100, 2)}\")"
   ],
   "metadata": {
    "collapsed": false,
    "pycharm": {
     "name": "#%%\n"
    }
   }
  },
  {
   "cell_type": "code",
   "execution_count": 117,
   "metadata": {},
   "outputs": [
    {
     "name": "stdout",
     "output_type": "stream",
     "text": [
      "ESPRESSO: std_error=15.51\n",
      "BOCD: std_error=20.25\n",
      "Window: std_error=22.89\n",
      "PELT: std_error=24.74\n",
      "BinSeg: std_error=25.64\n",
      "FLOSS: std_error=25.22\n",
      "ClaSP: std_error=18.84\n"
     ]
    }
   ],
   "source": [
    "for name in df_scores.columns[1:]:\n",
    "    print(f\"{name}: std_error={np.round(df_scores[name].std() * 100, 2)}\")"
   ]
  },
  {
   "cell_type": "markdown",
   "metadata": {},
   "source": [
    "Let's compute the wins per method."
   ]
  },
  {
   "cell_type": "code",
   "execution_count": 118,
   "metadata": {},
   "outputs": [],
   "source": [
    "ranks = df_scores.rank(1, method = 'min', ascending=False)\n",
    "means = np.array(ranks.mean(axis=0))"
   ]
  },
  {
   "cell_type": "code",
   "execution_count": 119,
   "metadata": {},
   "outputs": [
    {
     "name": "stdout",
     "output_type": "stream",
     "text": [
      "ESPRESSO:wins=4 rank=4.6\n",
      "BOCD:wins=6 rank=4.3\n",
      "Window:wins=7 rank=4.3\n",
      "PELT:wins=12 rank=2.9\n",
      "BinSeg:wins=12 rank=2.8\n",
      "FLOSS:wins=12 rank=3.1\n",
      "ClaSP:wins=54 rank=1.5\n"
     ]
    }
   ],
   "source": [
    "for mean, name in zip(means, df_scores.columns[1:]):\n",
    "    print(f\"{name}:wins={ranks[ranks[name] == 1].shape[0]} rank={np.round(mean, 1)}\")"
   ]
  },
  {
   "cell_type": "markdown",
   "metadata": {},
   "source": [
    "Let's plot and output the ranks."
   ]
  },
  {
   "cell_type": "code",
   "execution_count": 120,
   "metadata": {},
   "outputs": [
    {
     "data": {
      "text/plain": "<Figure size 360x140.4 with 1 Axes>",
      "image/png": "[encoded data removed]"
     },
     "metadata": {},
     "output_type": "display_data"
    }
   ],
   "source": [
    "cd = Orange.evaluation.scoring.compute_CD(means, df_scores.shape[0])\n",
    "Orange.evaluation.scoring.graph_ranks(means, df_scores.columns[1:], cd=cd, width=5, reverse=True, textspace=1.2, filename=\"../ranks.png\")"
   ]
  },
  {
   "cell_type": "code",
   "execution_count": 121,
   "metadata": {},
   "outputs": [
    {
     "name": "stdout",
     "output_type": "stream",
     "text": [
      "ESPRESSO: rank=4.6\n",
      "BOCD: rank=4.26667\n",
      "Window: rank=4.25333\n",
      "PELT: rank=2.90667\n",
      "BinSeg: rank=2.81333\n",
      "FLOSS: rank=3.12\n",
      "ClaSP: rank=1.46667\n"
     ]
    }
   ],
   "source": [
    "for name, rank in zip(df_scores.columns[1:], means):\n",
    "    print(f\"{name}: rank={np.round(rank, 5)}\")"
   ]
  },
  {
   "cell_type": "markdown",
   "metadata": {},
   "source": [
    "Let's compute wins/losses against the best-ranking algorithm ClaSP."
   ]
  },
  {
   "cell_type": "code",
   "execution_count": 122,
   "metadata": {},
   "outputs": [
    {
     "name": "stdout",
     "output_type": "stream",
     "text": [
      "ClaSP vs ESPRESSO: (wins/losses/ties): 7/68/0\n",
      "ClaSP vs BOCD: (wins/losses/ties): 5/65/5\n",
      "ClaSP vs Window: (wins/losses/ties): 0/60/15\n",
      "ClaSP vs PELT: (wins/losses/ties): 7/56/12\n",
      "ClaSP vs BinSeg: (wins/losses/ties): 7/56/12\n",
      "ClaSP vs FLOSS: (wins/losses/ties): 9/53/13\n"
     ]
    }
   ],
   "source": [
    "for rival in df_scores.columns[1:]:\n",
    "    if rival == \"ClaSP\": continue\n",
    "    \n",
    "    df_pair = df_scores[[\"ClaSP\", rival]]\n",
    "    pair_ranks = df_pair.rank(1, method = 'min', ascending=True)\n",
    "    \n",
    "    wins = pair_ranks[(pair_ranks[\"ClaSP\"] == 1) & (pair_ranks[rival] == 2)].shape[0]\n",
    "    losses = pair_ranks[(pair_ranks[\"ClaSP\"] == 2) & (pair_ranks[rival] == 1)].shape[0]\n",
    "    ties = pair_ranks[(pair_ranks[\"ClaSP\"] == 1) & (pair_ranks[rival] == 1)].shape[0]\n",
    "    \n",
    "    assert wins + losses + ties == pair_ranks.shape[0]\n",
    "    \n",
    "    print(f\"ClaSP vs {rival}: (wins/losses/ties): {wins}/{losses}/{ties}\")"
   ]
  },
  {
   "cell_type": "code",
   "execution_count": 133,
   "metadata": {},
   "outputs": [
    {
     "data": {
      "text/plain": "<Figure size 360x144 with 1 Axes>",
      "image/png": "[encoded data removed]"
     },
     "metadata": {},
     "output_type": "display_data"
    }
   ],
   "source": [
    "fontsize = 12\n",
    "_, ax = plt.subplots(figsize=(5,2))\n",
    "\n",
    "df_scores[[\"ESPRESSO\", \"BOCD\", \"Window\", \"FLOSS\", \"PELT\", \"BinSeg\", \"ClaSP\"]].boxplot(ax=ax, rot=30)\n",
    "ax.set_ylabel(\"Covering\", fontsize=fontsize)\n",
    "\n",
    "for tick in ax.xaxis.get_major_ticks():\n",
    "    tick.label.set_fontsize(fontsize)\n",
    "\n",
    "for tick in ax.yaxis.get_major_ticks():\n",
    "    tick.label.set_fontsize(fontsize)\n",
    "\n",
    "plt.savefig(f\"../boxplot.png\", bbox_inches=\"tight\")"
   ]
  },
  {
   "cell_type": "markdown",
   "source": [],
   "metadata": {
    "collapsed": false,
    "pycharm": {
     "name": "#%% md\n"
    }
   }
  }
 ],
 "metadata": {
  "kernelspec": {
   "display_name": "Python 3 (ipykernel)",
   "language": "python",
   "name": "python3"
  },
  "language_info": {
   "codemirror_mode": {
    "name": "ipython",
    "version": 3
   },
   "file_extension": ".py",
   "mimetype": "text/x-python",
   "name": "python",
   "nbconvert_exporter": "python",
   "pygments_lexer": "ipython3",
   "version": "3.8.12"
  }
 },
 "nbformat": 4,
 "nbformat_minor": 4
}